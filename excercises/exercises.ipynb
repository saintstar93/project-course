{
 "cells": [
  {
   "cell_type": "code",
   "execution_count": 11,
   "metadata": {},
   "outputs": [
    {
     "name": "stdout",
     "output_type": "stream",
     "text": [
      "1046.52 is C6 Hz.\n"
     ]
    }
   ],
   "source": [
    "def retrieve_note_value_from_user_input(note_letter, note_number):\n",
    "    # Construct the complete note from components\n",
    "    complete_note = note_letter.upper() + note_number  # Convert the letter to uppercase\n",
    "\n",
    "    # Note values for the 4th octave\n",
    "    note_values = {\n",
    "        'C4': 261.63,\n",
    "        'D4': 293.66,\n",
    "        'E4': 329.63,\n",
    "        'F4': 349.23,\n",
    "        'G4': 392.00,\n",
    "        'A4': 440.00,\n",
    "        'B4': 493.88\n",
    "    }\n",
    "\n",
    "    # Check if the constructed note is among the predefined notes\n",
    "    if complete_note in note_values:\n",
    "        return note_values[complete_note]\n",
    "    else:\n",
    "        # Handling notes not in the 4th octave\n",
    "        if note_letter.upper() in ['C', 'D', 'E', 'F', 'G', 'A', 'B']:\n",
    "            base_frequency = note_values[note_letter.upper() + '4']\n",
    "            note_number = int(note_number)\n",
    "            frequency = base_frequency / 2 ** (4 - note_number)\n",
    "            return f\"{frequency} is {note_letter.upper()}{note_number} Hz.\"\n",
    "        else:\n",
    "            return \"Invalid note letter.\"\n",
    "\n",
    "n_l = input(\"Insert a note letter: \")\n",
    "n_n = input(\"Insert a note number: \")\n",
    "print(retrieve_note_value_from_user_input(n_l, n_n))\n",
    "\n"
   ]
  },
  {
   "cell_type": "code",
   "execution_count": null,
   "metadata": {},
   "outputs": [],
   "source": []
  }
 ],
 "metadata": {
  "kernelspec": {
   "display_name": "base",
   "language": "python",
   "name": "python3"
  },
  "language_info": {
   "codemirror_mode": {
    "name": "ipython",
    "version": 3
   },
   "file_extension": ".py",
   "mimetype": "text/x-python",
   "name": "python",
   "nbconvert_exporter": "python",
   "pygments_lexer": "ipython3",
   "version": "3.10.9"
  }
 },
 "nbformat": 4,
 "nbformat_minor": 2
}
